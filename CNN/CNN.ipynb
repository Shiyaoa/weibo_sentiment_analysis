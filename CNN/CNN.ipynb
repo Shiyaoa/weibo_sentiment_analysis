{
 "cells": [
  {
   "cell_type": "code",
   "execution_count": 1,
   "metadata": {
    "executionInfo": {
     "elapsed": 5997,
     "status": "ok",
     "timestamp": 1607853223540,
     "user": {
      "displayName": "Paul guo",
      "photoUrl": "",
      "userId": "12460022556353592632"
     },
     "user_tz": -480
    },
    "id": "BeXJCu_nTbVV"
   },
   "outputs": [],
   "source": [
    "import torch\n",
    "import torch.nn as nn\n",
    "import torch.nn.functional as F\n",
    "import torch.utils.data.dataloader as dataloader\n",
    "import torch.optim as optim\n",
    "import torch.autograd as autograd\n",
    "import torchtext.vocab as torchvocab\n",
    "from torch.autograd import Variable\n",
    "import numpy as np\n",
    "import tqdm\n",
    "import os\n",
    "import time\n",
    "import re\n",
    "import pandas as pd\n",
    "import string\n",
    "import gensim\n",
    "import time\n",
    "import random\n",
    "import collections\n",
    "from collections import Counter\n",
    "from nltk.corpus import stopwords\n",
    "from itertools import chain\n",
    "from sklearn import manifold\n",
    "SEED = 1234\n",
    "random.seed(SEED)\n",
    "np.random.seed(SEED)\n",
    "torch.manual_seed(SEED)\n",
    "torch.backends.cudnn.deterministic = True"
   ]
  },
  {
   "cell_type": "markdown",
   "metadata": {
    "id": "uknBKsnqrltR"
   },
   "source": [
    "下面的代码是配置本地环境，用于colab的代码\n"
   ]
  },
  {
   "cell_type": "code",
   "execution_count": 2,
   "metadata": {
    "colab": {
     "base_uri": "https://localhost:8080/"
    },
    "executionInfo": {
     "elapsed": 82009,
     "status": "ok",
     "timestamp": 1607853299563,
     "user": {
      "displayName": "Paul guo",
      "photoUrl": "",
      "userId": "12460022556353592632"
     },
     "user_tz": -480
    },
    "id": "qwCZFtGQgb68",
    "outputId": "7263a1fc-5b28-4d66-a396-12b355572797"
   },
   "outputs": [
    {
     "name": "stdout",
     "output_type": "stream",
     "text": [
      "E: Package 'python-software-properties' has no installation candidate\n",
      "Selecting previously unselected package google-drive-ocamlfuse.\n",
      "(Reading database ... 144865 files and directories currently installed.)\n",
      "Preparing to unpack .../google-drive-ocamlfuse_0.7.23-0ubuntu1~ubuntu18.04.1_amd64.deb ...\n",
      "Unpacking google-drive-ocamlfuse (0.7.23-0ubuntu1~ubuntu18.04.1) ...\n",
      "Setting up google-drive-ocamlfuse (0.7.23-0ubuntu1~ubuntu18.04.1) ...\n",
      "Processing triggers for man-db (2.8.3-2ubuntu0.1) ...\n",
      "Please, open the following URL in a web browser: https://accounts.google.com/o/oauth2/auth?client_id=32555940559.apps.googleusercontent.com&redirect_uri=urn%3Aietf%3Awg%3Aoauth%3A2.0%3Aoob&scope=https%3A%2F%2Fwww.googleapis.com%2Fauth%2Fdrive&response_type=code&access_type=offline&approval_prompt=force\n",
      "··········\n",
      "Please, open the following URL in a web browser: https://accounts.google.com/o/oauth2/auth?client_id=32555940559.apps.googleusercontent.com&redirect_uri=urn%3Aietf%3Awg%3Aoauth%3A2.0%3Aoob&scope=https%3A%2F%2Fwww.googleapis.com%2Fauth%2Fdrive&response_type=code&access_type=offline&approval_prompt=force\n",
      "Please enter the verification code: Access token retrieved correctly.\n"
     ]
    }
   ],
   "source": [
    "!apt-get install -y -qq software-properties-common python-software-properties module-init-tools\n",
    "!add-apt-repository -y ppa:alessandro-strada/ppa 2>&1 > /dev/null\n",
    "!apt-get update -qq 2>&1 > /dev/null\n",
    "!apt-get -y install -qq google-drive-ocamlfuse fuse\n",
    "from google.colab import auth\n",
    "auth.authenticate_user()\n",
    "from oauth2client.client import GoogleCredentials\n",
    "creds = GoogleCredentials.get_application_default()\n",
    "import getpass\n",
    "!google-drive-ocamlfuse -headless -id={creds.client_id} -secret={creds.client_secret} < /dev/null 2>&1 | grep URL\n",
    "vcode = getpass.getpass()\n",
    "!echo {vcode} | google-drive-ocamlfuse -headless -id={creds.client_id} -secret={creds.client_secret}"
   ]
  },
  {
   "cell_type": "code",
   "execution_count": 3,
   "metadata": {
    "executionInfo": {
     "elapsed": 82007,
     "status": "ok",
     "timestamp": 1607853299564,
     "user": {
      "displayName": "Paul guo",
      "photoUrl": "",
      "userId": "12460022556353592632"
     },
     "user_tz": -480
    },
    "id": "Upl9f6u-gXo8"
   },
   "outputs": [],
   "source": [
    "# 指定Google Drive云端硬盘的根目录，名为drive\n",
    "!mkdir -p drive\n",
    "!google-drive-ocamlfuse drive"
   ]
  },
  {
   "cell_type": "code",
   "execution_count": 4,
   "metadata": {
    "executionInfo": {
     "elapsed": 83768,
     "status": "ok",
     "timestamp": 1607853301327,
     "user": {
      "displayName": "Paul guo",
      "photoUrl": "",
      "userId": "12460022556353592632"
     },
     "user_tz": -480
    },
    "id": "opcm6BwjgRq0"
   },
   "outputs": [],
   "source": [
    "# 指定当前的工作文件夹\n",
    "import os\n",
    "\n",
    "# 此处为google drive中的文件路径,drive为之前指定的工作根目录，要加上\n",
    "os.chdir(\"drive/Colab Notebooks\") "
   ]
  },
  {
   "cell_type": "markdown",
   "metadata": {
    "id": "2tJysHlQruxt"
   },
   "source": [
    "至此colab链接上谷歌云盘，本地环境配置完成\n",
    "下面进行字符级词向量训练"
   ]
  },
  {
   "cell_type": "code",
   "execution_count": 2,
   "metadata": {
    "id": "BOwwPnKyTbVg"
   },
   "outputs": [
    {
     "ename": "FileNotFoundError",
     "evalue": "[Errno 2] File b'data0.csv' does not exist: b'data0.csv'",
     "output_type": "error",
     "traceback": [
      "\u001b[1;31m---------------------------------------------------------------------------\u001b[0m",
      "\u001b[1;31mFileNotFoundError\u001b[0m                         Traceback (most recent call last)",
      "\u001b[1;32m<ipython-input-2-f8a085aa76d0>\u001b[0m in \u001b[0;36m<module>\u001b[1;34m\u001b[0m\n\u001b[1;32m----> 1\u001b[1;33m \u001b[0mdata\u001b[0m\u001b[1;33m=\u001b[0m\u001b[0mpd\u001b[0m\u001b[1;33m.\u001b[0m\u001b[0mread_csv\u001b[0m\u001b[1;33m(\u001b[0m\u001b[1;34m\"data0.csv\"\u001b[0m\u001b[1;33m,\u001b[0m \u001b[0musecols\u001b[0m\u001b[1;33m=\u001b[0m\u001b[1;33m[\u001b[0m\u001b[1;34m'text'\u001b[0m\u001b[1;33m]\u001b[0m\u001b[1;33m)\u001b[0m \u001b[1;31m#本地文件，约44万条未标注微博文本\u001b[0m\u001b[1;33m\u001b[0m\u001b[1;33m\u001b[0m\u001b[0m\n\u001b[0m",
      "\u001b[1;32md:\\python37\\lib\\site-packages\\pandas\\io\\parsers.py\u001b[0m in \u001b[0;36mparser_f\u001b[1;34m(filepath_or_buffer, sep, delimiter, header, names, index_col, usecols, squeeze, prefix, mangle_dupe_cols, dtype, engine, converters, true_values, false_values, skipinitialspace, skiprows, skipfooter, nrows, na_values, keep_default_na, na_filter, verbose, skip_blank_lines, parse_dates, infer_datetime_format, keep_date_col, date_parser, dayfirst, cache_dates, iterator, chunksize, compression, thousands, decimal, lineterminator, quotechar, quoting, doublequote, escapechar, comment, encoding, dialect, error_bad_lines, warn_bad_lines, delim_whitespace, low_memory, memory_map, float_precision)\u001b[0m\n\u001b[0;32m    683\u001b[0m         )\n\u001b[0;32m    684\u001b[0m \u001b[1;33m\u001b[0m\u001b[0m\n\u001b[1;32m--> 685\u001b[1;33m         \u001b[1;32mreturn\u001b[0m \u001b[0m_read\u001b[0m\u001b[1;33m(\u001b[0m\u001b[0mfilepath_or_buffer\u001b[0m\u001b[1;33m,\u001b[0m \u001b[0mkwds\u001b[0m\u001b[1;33m)\u001b[0m\u001b[1;33m\u001b[0m\u001b[1;33m\u001b[0m\u001b[0m\n\u001b[0m\u001b[0;32m    686\u001b[0m \u001b[1;33m\u001b[0m\u001b[0m\n\u001b[0;32m    687\u001b[0m     \u001b[0mparser_f\u001b[0m\u001b[1;33m.\u001b[0m\u001b[0m__name__\u001b[0m \u001b[1;33m=\u001b[0m \u001b[0mname\u001b[0m\u001b[1;33m\u001b[0m\u001b[1;33m\u001b[0m\u001b[0m\n",
      "\u001b[1;32md:\\python37\\lib\\site-packages\\pandas\\io\\parsers.py\u001b[0m in \u001b[0;36m_read\u001b[1;34m(filepath_or_buffer, kwds)\u001b[0m\n\u001b[0;32m    455\u001b[0m \u001b[1;33m\u001b[0m\u001b[0m\n\u001b[0;32m    456\u001b[0m     \u001b[1;31m# Create the parser.\u001b[0m\u001b[1;33m\u001b[0m\u001b[1;33m\u001b[0m\u001b[1;33m\u001b[0m\u001b[0m\n\u001b[1;32m--> 457\u001b[1;33m     \u001b[0mparser\u001b[0m \u001b[1;33m=\u001b[0m \u001b[0mTextFileReader\u001b[0m\u001b[1;33m(\u001b[0m\u001b[0mfp_or_buf\u001b[0m\u001b[1;33m,\u001b[0m \u001b[1;33m**\u001b[0m\u001b[0mkwds\u001b[0m\u001b[1;33m)\u001b[0m\u001b[1;33m\u001b[0m\u001b[1;33m\u001b[0m\u001b[0m\n\u001b[0m\u001b[0;32m    458\u001b[0m \u001b[1;33m\u001b[0m\u001b[0m\n\u001b[0;32m    459\u001b[0m     \u001b[1;32mif\u001b[0m \u001b[0mchunksize\u001b[0m \u001b[1;32mor\u001b[0m \u001b[0miterator\u001b[0m\u001b[1;33m:\u001b[0m\u001b[1;33m\u001b[0m\u001b[1;33m\u001b[0m\u001b[0m\n",
      "\u001b[1;32md:\\python37\\lib\\site-packages\\pandas\\io\\parsers.py\u001b[0m in \u001b[0;36m__init__\u001b[1;34m(self, f, engine, **kwds)\u001b[0m\n\u001b[0;32m    893\u001b[0m             \u001b[0mself\u001b[0m\u001b[1;33m.\u001b[0m\u001b[0moptions\u001b[0m\u001b[1;33m[\u001b[0m\u001b[1;34m\"has_index_names\"\u001b[0m\u001b[1;33m]\u001b[0m \u001b[1;33m=\u001b[0m \u001b[0mkwds\u001b[0m\u001b[1;33m[\u001b[0m\u001b[1;34m\"has_index_names\"\u001b[0m\u001b[1;33m]\u001b[0m\u001b[1;33m\u001b[0m\u001b[1;33m\u001b[0m\u001b[0m\n\u001b[0;32m    894\u001b[0m \u001b[1;33m\u001b[0m\u001b[0m\n\u001b[1;32m--> 895\u001b[1;33m         \u001b[0mself\u001b[0m\u001b[1;33m.\u001b[0m\u001b[0m_make_engine\u001b[0m\u001b[1;33m(\u001b[0m\u001b[0mself\u001b[0m\u001b[1;33m.\u001b[0m\u001b[0mengine\u001b[0m\u001b[1;33m)\u001b[0m\u001b[1;33m\u001b[0m\u001b[1;33m\u001b[0m\u001b[0m\n\u001b[0m\u001b[0;32m    896\u001b[0m \u001b[1;33m\u001b[0m\u001b[0m\n\u001b[0;32m    897\u001b[0m     \u001b[1;32mdef\u001b[0m \u001b[0mclose\u001b[0m\u001b[1;33m(\u001b[0m\u001b[0mself\u001b[0m\u001b[1;33m)\u001b[0m\u001b[1;33m:\u001b[0m\u001b[1;33m\u001b[0m\u001b[1;33m\u001b[0m\u001b[0m\n",
      "\u001b[1;32md:\\python37\\lib\\site-packages\\pandas\\io\\parsers.py\u001b[0m in \u001b[0;36m_make_engine\u001b[1;34m(self, engine)\u001b[0m\n\u001b[0;32m   1133\u001b[0m     \u001b[1;32mdef\u001b[0m \u001b[0m_make_engine\u001b[0m\u001b[1;33m(\u001b[0m\u001b[0mself\u001b[0m\u001b[1;33m,\u001b[0m \u001b[0mengine\u001b[0m\u001b[1;33m=\u001b[0m\u001b[1;34m\"c\"\u001b[0m\u001b[1;33m)\u001b[0m\u001b[1;33m:\u001b[0m\u001b[1;33m\u001b[0m\u001b[1;33m\u001b[0m\u001b[0m\n\u001b[0;32m   1134\u001b[0m         \u001b[1;32mif\u001b[0m \u001b[0mengine\u001b[0m \u001b[1;33m==\u001b[0m \u001b[1;34m\"c\"\u001b[0m\u001b[1;33m:\u001b[0m\u001b[1;33m\u001b[0m\u001b[1;33m\u001b[0m\u001b[0m\n\u001b[1;32m-> 1135\u001b[1;33m             \u001b[0mself\u001b[0m\u001b[1;33m.\u001b[0m\u001b[0m_engine\u001b[0m \u001b[1;33m=\u001b[0m \u001b[0mCParserWrapper\u001b[0m\u001b[1;33m(\u001b[0m\u001b[0mself\u001b[0m\u001b[1;33m.\u001b[0m\u001b[0mf\u001b[0m\u001b[1;33m,\u001b[0m \u001b[1;33m**\u001b[0m\u001b[0mself\u001b[0m\u001b[1;33m.\u001b[0m\u001b[0moptions\u001b[0m\u001b[1;33m)\u001b[0m\u001b[1;33m\u001b[0m\u001b[1;33m\u001b[0m\u001b[0m\n\u001b[0m\u001b[0;32m   1136\u001b[0m         \u001b[1;32melse\u001b[0m\u001b[1;33m:\u001b[0m\u001b[1;33m\u001b[0m\u001b[1;33m\u001b[0m\u001b[0m\n\u001b[0;32m   1137\u001b[0m             \u001b[1;32mif\u001b[0m \u001b[0mengine\u001b[0m \u001b[1;33m==\u001b[0m \u001b[1;34m\"python\"\u001b[0m\u001b[1;33m:\u001b[0m\u001b[1;33m\u001b[0m\u001b[1;33m\u001b[0m\u001b[0m\n",
      "\u001b[1;32md:\\python37\\lib\\site-packages\\pandas\\io\\parsers.py\u001b[0m in \u001b[0;36m__init__\u001b[1;34m(self, src, **kwds)\u001b[0m\n\u001b[0;32m   1915\u001b[0m         \u001b[0mkwds\u001b[0m\u001b[1;33m[\u001b[0m\u001b[1;34m\"usecols\"\u001b[0m\u001b[1;33m]\u001b[0m \u001b[1;33m=\u001b[0m \u001b[0mself\u001b[0m\u001b[1;33m.\u001b[0m\u001b[0musecols\u001b[0m\u001b[1;33m\u001b[0m\u001b[1;33m\u001b[0m\u001b[0m\n\u001b[0;32m   1916\u001b[0m \u001b[1;33m\u001b[0m\u001b[0m\n\u001b[1;32m-> 1917\u001b[1;33m         \u001b[0mself\u001b[0m\u001b[1;33m.\u001b[0m\u001b[0m_reader\u001b[0m \u001b[1;33m=\u001b[0m \u001b[0mparsers\u001b[0m\u001b[1;33m.\u001b[0m\u001b[0mTextReader\u001b[0m\u001b[1;33m(\u001b[0m\u001b[0msrc\u001b[0m\u001b[1;33m,\u001b[0m \u001b[1;33m**\u001b[0m\u001b[0mkwds\u001b[0m\u001b[1;33m)\u001b[0m\u001b[1;33m\u001b[0m\u001b[1;33m\u001b[0m\u001b[0m\n\u001b[0m\u001b[0;32m   1918\u001b[0m         \u001b[0mself\u001b[0m\u001b[1;33m.\u001b[0m\u001b[0munnamed_cols\u001b[0m \u001b[1;33m=\u001b[0m \u001b[0mself\u001b[0m\u001b[1;33m.\u001b[0m\u001b[0m_reader\u001b[0m\u001b[1;33m.\u001b[0m\u001b[0munnamed_cols\u001b[0m\u001b[1;33m\u001b[0m\u001b[1;33m\u001b[0m\u001b[0m\n\u001b[0;32m   1919\u001b[0m \u001b[1;33m\u001b[0m\u001b[0m\n",
      "\u001b[1;32mpandas/_libs/parsers.pyx\u001b[0m in \u001b[0;36mpandas._libs.parsers.TextReader.__cinit__\u001b[1;34m()\u001b[0m\n",
      "\u001b[1;32mpandas/_libs/parsers.pyx\u001b[0m in \u001b[0;36mpandas._libs.parsers.TextReader._setup_parser_source\u001b[1;34m()\u001b[0m\n",
      "\u001b[1;31mFileNotFoundError\u001b[0m: [Errno 2] File b'data0.csv' does not exist: b'data0.csv'"
     ]
    }
   ],
   "source": [
    "data=pd.read_csv(\"data0.csv\", usecols=['text']) #本地文件，约44万条未标注微博文本"
   ]
  },
  {
   "cell_type": "code",
   "execution_count": null,
   "metadata": {
    "id": "pNnF8d2MUbbg"
   },
   "outputs": [],
   "source": [
    "x_data=data['text'].values.tolist()"
   ]
  },
  {
   "cell_type": "code",
   "execution_count": null,
   "metadata": {
    "colab": {
     "base_uri": "https://localhost:8080/",
     "height": 180
    },
    "executionInfo": {
     "elapsed": 1118,
     "status": "error",
     "timestamp": 1607613065460,
     "user": {
      "displayName": "Paul guo",
      "photoUrl": "",
      "userId": "12460022556353592632"
     },
     "user_tz": -480
    },
    "id": "Ua5SrAccUh5Q",
    "outputId": "f76be7c4-f027-4673-a06c-7046047bb9b3"
   },
   "outputs": [
    {
     "ename": "NameError",
     "evalue": "ignored",
     "output_type": "error",
     "traceback": [
      "\u001b[0;31m---------------------------------------------------------------------------\u001b[0m",
      "\u001b[0;31mNameError\u001b[0m                                 Traceback (most recent call last)",
      "\u001b[0;32m<ipython-input-1-fddde9d2e25e>\u001b[0m in \u001b[0;36m<module>\u001b[0;34m()\u001b[0m\n\u001b[0;32m----> 1\u001b[0;31m \u001b[0;32mfor\u001b[0m \u001b[0mi\u001b[0m\u001b[0;34m,\u001b[0m \u001b[0msentence\u001b[0m \u001b[0;32min\u001b[0m \u001b[0menumerate\u001b[0m\u001b[0;34m(\u001b[0m\u001b[0mx_data\u001b[0m\u001b[0;34m)\u001b[0m\u001b[0;34m:\u001b[0m\u001b[0;34m\u001b[0m\u001b[0;34m\u001b[0m\u001b[0m\n\u001b[0m\u001b[1;32m      2\u001b[0m   \u001b[0mx_data\u001b[0m\u001b[0;34m[\u001b[0m\u001b[0mi\u001b[0m\u001b[0;34m]\u001b[0m \u001b[0;34m=\u001b[0m \u001b[0;34m[\u001b[0m\u001b[0mch\u001b[0m\u001b[0;34m.\u001b[0m\u001b[0mstrip\u001b[0m\u001b[0;34m(\u001b[0m\u001b[0;34m)\u001b[0m\u001b[0;34m.\u001b[0m\u001b[0mstrip\u001b[0m\u001b[0;34m(\u001b[0m\u001b[0;34m'*'\u001b[0m\u001b[0;34m)\u001b[0m\u001b[0;34m.\u001b[0m\u001b[0mstrip\u001b[0m\u001b[0;34m(\u001b[0m\u001b[0;34m'='\u001b[0m\u001b[0;34m)\u001b[0m\u001b[0;34m.\u001b[0m\u001b[0mreplace\u001b[0m\u001b[0;34m(\u001b[0m\u001b[0;34m' '\u001b[0m\u001b[0;34m,\u001b[0m\u001b[0;34m''\u001b[0m\u001b[0;34m)\u001b[0m\u001b[0;34m.\u001b[0m\u001b[0mreplace\u001b[0m\u001b[0;34m(\u001b[0m\u001b[0;34m'\\t'\u001b[0m\u001b[0;34m,\u001b[0m\u001b[0;34m''\u001b[0m\u001b[0;34m)\u001b[0m\u001b[0;34m.\u001b[0m\u001b[0mreplace\u001b[0m\u001b[0;34m(\u001b[0m\u001b[0;34m'\\n'\u001b[0m\u001b[0;34m,\u001b[0m\u001b[0;34m''\u001b[0m\u001b[0;34m)\u001b[0m \u001b[0;32mfor\u001b[0m \u001b[0mch\u001b[0m \u001b[0;32min\u001b[0m \u001b[0msentence\u001b[0m\u001b[0;34m]\u001b[0m\u001b[0;34m\u001b[0m\u001b[0;34m\u001b[0m\u001b[0m\n",
      "\u001b[0;31mNameError\u001b[0m: name 'x_data' is not defined"
     ]
    }
   ],
   "source": [
    "for i, sentence in enumerate(x_data):\n",
    "  x_data[i] = [ch.strip().strip('*').strip('=').replace(' ','').replace('\\t','').replace('\\n','') for ch in sentence]"
   ]
  },
  {
   "cell_type": "code",
   "execution_count": 20,
   "metadata": {
    "id": "lx66bKY5TbVh"
   },
   "outputs": [],
   "source": [
    "from gensim.models.word2vec import Word2Vec \n",
    "model = Word2Vec(x_data, size=200, min_count=10, window=8, sg=0) # default value is 5\n",
    "model.save('weibo_zh.model') "
   ]
  },
  {
   "cell_type": "markdown",
   "metadata": {
    "id": "FkL_HXMEsC5u"
   },
   "source": [
    "下面测试一下词向量模型"
   ]
  },
  {
   "cell_type": "code",
   "execution_count": 21,
   "metadata": {
    "colab": {
     "base_uri": "https://localhost:8080/"
    },
    "executionInfo": {
     "elapsed": 2911,
     "status": "ok",
     "timestamp": 1607820864939,
     "user": {
      "displayName": "Paul guo",
      "photoUrl": "",
      "userId": "12460022556353592632"
     },
     "user_tz": -480
    },
    "id": "oyqBlkj-TbVi",
    "outputId": "5e08cdc2-a4df-46e6-9197-c2e787b23069"
   },
   "outputs": [
    {
     "name": "stderr",
     "output_type": "stream",
     "text": [
      "d:\\python37\\lib\\site-packages\\ipykernel_launcher.py:4: DeprecationWarning: Call to deprecated `__getitem__` (Method will be removed in 4.0.0, use self.wv.__getitem__() instead).\n",
      "  after removing the cwd from sys.path.\n"
     ]
    },
    {
     "name": "stdout",
     "output_type": "stream",
     "text": [
      "[ 2.1506853  -1.5245514  -0.21466306  0.61141855 -1.090622   -1.102489\n",
      " -0.52305675  1.9245552  -0.40521264 -0.19342792 -2.2925682  -0.18540245\n",
      " -1.1730795   1.4455631  -0.05342131 -0.38782907  0.6612033   0.7264143\n",
      " -1.3872072   1.317197    0.5005987   0.15019307  1.0159107  -1.2273024\n",
      "  0.04577068 -0.0323239  -0.33342388  1.5840482  -1.7838104   0.15636894\n",
      "  0.5716072   0.18447834 -1.6200304   0.6273201   1.4344475   0.21835975\n",
      "  0.49327433 -0.6859398   1.2079611  -0.26378575 -0.45901605  0.39576375\n",
      "  1.0950341  -0.7959749   2.024362   -1.7896259  -1.3929826  -0.2137687\n",
      "  0.4774486   0.2959412   0.19284171 -1.5113736   1.9221914   1.7275268\n",
      " -1.9671502  -0.15720363 -0.63643533  0.843273   -1.6356289  -0.02119502\n",
      "  0.12176663 -0.8120324   0.9601586  -0.29885826 -0.0844444   1.1427903\n",
      " -0.12822203  0.84425616  0.12015705 -0.6752206  -1.2476076  -0.5729949\n",
      "  2.1403234   1.5236206   0.4271817   0.37464523 -1.3695788  -0.20757344\n",
      " -0.15309107 -0.6320793  -1.3628567   2.3868191   0.94431543 -1.0107224\n",
      "  0.8723435  -0.66114724  0.47074947 -0.16320165  0.2912053  -0.7378703\n",
      "  0.60708034 -0.36047375  2.4868057   0.9907241  -2.3112025  -0.1921165\n",
      "  0.6991941   2.4202433  -0.2920272  -0.89562464 -0.24567284  0.22460307\n",
      "  1.3996733   1.0177009  -0.6698405   0.15198393  1.0400616  -0.90117913\n",
      "  0.48123875 -0.11713027 -0.84385896  0.36375132 -2.0005836  -0.07636648\n",
      " -0.07155828  1.3415917  -0.00816926 -1.0245745  -0.68918365  0.48682138\n",
      "  0.95473546 -0.08805019  0.417886   -1.5828694  -0.14596103 -0.04686528\n",
      "  0.44771615 -0.2958265   1.0385976  -0.9912081  -1.7357359  -1.2544415\n",
      "  1.8353059   0.71160746  0.50736284  0.64130765 -0.49752954 -0.28678405\n",
      " -1.4125818   0.52729267 -0.37203974  0.8690773  -1.839164   -0.9421667\n",
      " -1.2177738   0.13929373  1.5531951  -0.08718943 -0.37782565  1.5187242\n",
      "  0.04292108 -1.8335673  -0.26547793 -1.4310367  -0.2914291   0.76021564\n",
      "  1.2969021   0.05406221  0.72534215  0.8137169   0.09709389 -0.59398174\n",
      " -0.81412     0.30346215  0.16221157 -1.6159086  -0.46798638 -1.3081907\n",
      " -1.1667396  -0.20492217 -0.05537853  0.81806755 -0.08182842 -0.12739329\n",
      "  0.7141041  -0.40393972 -0.31957895  1.6779559  -0.12693787 -0.005342\n",
      " -0.24824467 -1.2049797  -0.83466834 -1.1954931   0.20750359  0.72462416\n",
      "  0.6755752   0.9182862   1.0317373   0.32622728  0.5073718  -0.33547702\n",
      " -0.00455471  1.8959966  -1.8231579   1.0984149  -0.11272906  0.80078316\n",
      "  0.52887857 -0.02456855]\n"
     ]
    },
    {
     "name": "stderr",
     "output_type": "stream",
     "text": [
      "d:\\python37\\lib\\site-packages\\ipykernel_launcher.py:6: DeprecationWarning: Call to deprecated `most_similar` (Method will be removed in 4.0.0, use self.wv.most_similar() instead).\n",
      "  \n"
     ]
    },
    {
     "name": "stdout",
     "output_type": "stream",
     "text": [
      "[('字', 0.8980386853218079), ('增', 0.534447193145752), ('岗', 0.4926886260509491), ('单', 0.49090293049812317), ('纪', 0.4905225932598114), ('万', 0.48716533184051514), ('百', 0.48211073875427246), ('惜', 0.4722316861152649), ('秒', 0.4644036889076233), ('性', 0.4504222273826599)]\n"
     ]
    },
    {
     "name": "stderr",
     "output_type": "stream",
     "text": [
      "d:\\python37\\lib\\site-packages\\ipykernel_launcher.py:8: DeprecationWarning: Call to deprecated `similarity` (Method will be removed in 4.0.0, use self.wv.similarity() instead).\n",
      "  \n"
     ]
    },
    {
     "data": {
      "text/plain": [
       "0.20197771"
      ]
     },
     "execution_count": 21,
     "metadata": {},
     "output_type": "execute_result"
    }
   ],
   "source": [
    "import gensim\n",
    "model = gensim.models.Word2Vec.load('weibo_zh.Model')\n",
    "#查看某个字词的向量：\n",
    "print(model['病'])\n",
    "#查看与该词最接近的其他词汇及相似度：\n",
    "print(model.most_similar(['数']))\n",
    "#查看两个词之间的相似度：\n",
    "model.similarity('数','值')"
   ]
  },
  {
   "cell_type": "markdown",
   "metadata": {
    "id": "gPzlwYUdvDZ2"
   },
   "source": [
    "下面进入CNN模型"
   ]
  },
  {
   "cell_type": "code",
   "execution_count": 22,
   "metadata": {
    "executionInfo": {
     "elapsed": 2475,
     "status": "ok",
     "timestamp": 1607853311141,
     "user": {
      "displayName": "Paul guo",
      "photoUrl": "",
      "userId": "12460022556353592632"
     },
     "user_tz": -480
    },
    "id": "DfcA1psMTbVn"
   },
   "outputs": [],
   "source": [
    "wvmodel=gensim.models.Word2Vec.load(\"weibo_zh.model\").wv # 这是上面的词向量模型"
   ]
  },
  {
   "cell_type": "code",
   "execution_count": 23,
   "metadata": {
    "colab": {
     "base_uri": "https://localhost:8080/"
    },
    "executionInfo": {
     "elapsed": 2460,
     "status": "ok",
     "timestamp": 1607853311144,
     "user": {
      "displayName": "Paul guo",
      "photoUrl": "",
      "userId": "12460022556353592632"
     },
     "user_tz": -480
    },
    "id": "tPWx8fbqByC5",
    "outputId": "fe25d209-217d-4f98-afac-78206d3a7934"
   },
   "outputs": [
    {
     "name": "stderr",
     "output_type": "stream",
     "text": [
      "d:\\python37\\lib\\site-packages\\ipykernel_launcher.py:1: DeprecationWarning: Call to deprecated `wv` (Attribute will be removed in 4.0.0, use self instead).\n",
      "  \"\"\"Entry point for launching an IPython kernel.\n"
     ]
    },
    {
     "data": {
      "text/plain": [
       "2315"
      ]
     },
     "execution_count": 23,
     "metadata": {},
     "output_type": "execute_result"
    }
   ],
   "source": [
    "len(wvmodel.wv.vocab)"
   ]
  },
  {
   "cell_type": "code",
   "execution_count": 24,
   "metadata": {
    "executionInfo": {
     "elapsed": 3992,
     "status": "ok",
     "timestamp": 1607853312678,
     "user": {
      "displayName": "Paul guo",
      "photoUrl": "",
      "userId": "12460022556353592632"
     },
     "user_tz": -480
    },
    "id": "e_hV5gy9TbVn"
   },
   "outputs": [],
   "source": [
    "data=pd.read_csv(\"labeledData.csv\",usecols=['review','label'])"
   ]
  },
  {
   "cell_type": "code",
   "execution_count": 25,
   "metadata": {
    "executionInfo": {
     "elapsed": 4583,
     "status": "ok",
     "timestamp": 1607853313271,
     "user": {
      "displayName": "Paul guo",
      "photoUrl": "",
      "userId": "12460022556353592632"
     },
     "user_tz": -480
    },
    "id": "EFJ7Hz_9TbVo"
   },
   "outputs": [],
   "source": [
    "x_data=data['review'].values.tolist()\n",
    "for i, sentence in enumerate(x_data):\n",
    "  x_data[i] = [ch.strip().strip('*').strip('=').replace(' ','').replace('\\t','').replace('\\n','') for ch in sentence]"
   ]
  },
  {
   "cell_type": "code",
   "execution_count": 26,
   "metadata": {
    "executionInfo": {
     "elapsed": 4582,
     "status": "ok",
     "timestamp": 1607853313272,
     "user": {
      "displayName": "Paul guo",
      "photoUrl": "",
      "userId": "12460022556353592632"
     },
     "user_tz": -480
    },
    "id": "HLQd2xeAIiqT"
   },
   "outputs": [],
   "source": [
    "y_data=data['label'].values.tolist()\n",
    "labels = len(set(y_data))"
   ]
  },
  {
   "cell_type": "markdown",
   "metadata": {
    "id": "dT7TtBH2I2d9"
   },
   "source": [
    "总共七个label"
   ]
  },
  {
   "cell_type": "code",
   "execution_count": 27,
   "metadata": {
    "executionInfo": {
     "elapsed": 4579,
     "status": "ok",
     "timestamp": 1607853313272,
     "user": {
      "displayName": "Paul guo",
      "photoUrl": "",
      "userId": "12460022556353592632"
     },
     "user_tz": -480
    },
    "id": "WaR2ZfhnIu6N"
   },
   "outputs": [],
   "source": [
    "from sklearn.model_selection import train_test_split\n",
    "x_train,x_test,y_train,y_test=train_test_split(x_data,y_data,test_size=0.20,random_state=1)"
   ]
  },
  {
   "cell_type": "code",
   "execution_count": 28,
   "metadata": {
    "colab": {
     "base_uri": "https://localhost:8080/"
    },
    "executionInfo": {
     "elapsed": 4572,
     "status": "ok",
     "timestamp": 1607853313273,
     "user": {
      "displayName": "Paul guo",
      "photoUrl": "",
      "userId": "12460022556353592632"
     },
     "user_tz": -480
    },
    "id": "K99tmkxaJD1j",
    "outputId": "c461d15c-b9f9-403b-c925-8e150be899cd"
   },
   "outputs": [
    {
     "name": "stdout",
     "output_type": "stream",
     "text": [
      "3928\n"
     ]
    }
   ],
   "source": [
    "vocab = set(chain(*x_data))\n",
    "vocab_size = len(vocab)\n",
    "print(vocab_size)"
   ]
  },
  {
   "cell_type": "code",
   "execution_count": 29,
   "metadata": {
    "colab": {
     "base_uri": "https://localhost:8080/"
    },
    "executionInfo": {
     "elapsed": 4566,
     "status": "ok",
     "timestamp": 1607853313274,
     "user": {
      "displayName": "Paul guo",
      "photoUrl": "",
      "userId": "12460022556353592632"
     },
     "user_tz": -480
    },
    "id": "YRuemOBcJVVc",
    "outputId": "313bbbce-7fb9-4ba2-91a7-c8b2eeaafaea"
   },
   "outputs": [
    {
     "data": {
      "text/plain": [
       "613516"
      ]
     },
     "execution_count": 29,
     "metadata": {},
     "output_type": "execute_result"
    }
   ],
   "source": [
    "len(list(chain(*x_data)))"
   ]
  },
  {
   "cell_type": "markdown",
   "metadata": {
    "id": "DXAo-AZ6sVf_"
   },
   "source": [
    "embed_size和Ir,batch_size是按照论文参数来修改的，允许cnn允许时对词向量进行微调。\n",
    "\n",
    "---\n",
    "\n",
    "\n",
    "Dropout probability已经实现"
   ]
  },
  {
   "cell_type": "code",
   "execution_count": 62,
   "metadata": {
    "executionInfo": {
     "elapsed": 4562,
     "status": "ok",
     "timestamp": 1607853313274,
     "user": {
      "displayName": "Paul guo",
      "photoUrl": "",
      "userId": "12460022556353592632"
     },
     "user_tz": -480
    },
    "id": "dQR7sY0oOcA5"
   },
   "outputs": [],
   "source": [
    "embed_size = 200\n",
    "bidirectional = True\n",
    "batch_size = 50\n",
    "lr = 0.001\n",
    "device = torch.device('cpu')\n",
    "use_gpu = False"
   ]
  },
  {
   "cell_type": "code",
   "execution_count": 31,
   "metadata": {
    "executionInfo": {
     "elapsed": 4561,
     "status": "ok",
     "timestamp": 1607853313275,
     "user": {
      "displayName": "Paul guo",
      "photoUrl": "",
      "userId": "12460022556353592632"
     },
     "user_tz": -480
    },
    "id": "gF4181ZYOwvg"
   },
   "outputs": [],
   "source": [
    "word_to_idx = {word: i+1 for i, word in enumerate(vocab)} # 构造字典查询字典内字对应序号（输入文本）\n",
    "word_to_idx['<unk>'] = 0\n",
    "idx_to_word = {i+1: word for i, word in enumerate(vocab)}\n",
    "idx_to_word[0] = '<unk>'"
   ]
  },
  {
   "cell_type": "code",
   "execution_count": 32,
   "metadata": {
    "colab": {
     "base_uri": "https://localhost:8080/"
    },
    "executionInfo": {
     "elapsed": 4554,
     "status": "ok",
     "timestamp": 1607853313275,
     "user": {
      "displayName": "Paul guo",
      "photoUrl": "",
      "userId": "12460022556353592632"
     },
     "user_tz": -480
    },
    "id": "_9yV7mbSDYK0",
    "outputId": "26c89386-9404-443c-b431-b8ffbdd10c23"
   },
   "outputs": [
    {
     "data": {
      "text/plain": [
       "3929"
      ]
     },
     "execution_count": 32,
     "metadata": {},
     "output_type": "execute_result"
    }
   ],
   "source": [
    "len(idx_to_word)"
   ]
  },
  {
   "cell_type": "code",
   "execution_count": 33,
   "metadata": {
    "colab": {
     "base_uri": "https://localhost:8080/"
    },
    "executionInfo": {
     "elapsed": 4549,
     "status": "ok",
     "timestamp": 1607853313276,
     "user": {
      "displayName": "Paul guo",
      "photoUrl": "",
      "userId": "12460022556353592632"
     },
     "user_tz": -480
    },
    "id": "XbBdajYnt6YD",
    "outputId": "aa013fad-3d40-451d-c479-1fcd674da389"
   },
   "outputs": [
    {
     "data": {
      "text/plain": [
       "2315"
      ]
     },
     "execution_count": 33,
     "metadata": {},
     "output_type": "execute_result"
    }
   ],
   "source": [
    "len(wvmodel.index2word)"
   ]
  },
  {
   "cell_type": "code",
   "execution_count": 34,
   "metadata": {
    "colab": {
     "base_uri": "https://localhost:8080/"
    },
    "executionInfo": {
     "elapsed": 4541,
     "status": "ok",
     "timestamp": 1607853313276,
     "user": {
      "displayName": "Paul guo",
      "photoUrl": "",
      "userId": "12460022556353592632"
     },
     "user_tz": -480
    },
    "id": "Ozuht40T700R",
    "outputId": "6aac6d6a-beaa-4faa-dae6-820272667a77"
   },
   "outputs": [
    {
     "data": {
      "text/plain": [
       "3928"
      ]
     },
     "execution_count": 34,
     "metadata": {},
     "output_type": "execute_result"
    }
   ],
   "source": [
    "vocab_size"
   ]
  },
  {
   "cell_type": "code",
   "execution_count": 35,
   "metadata": {
    "colab": {
     "base_uri": "https://localhost:8080/"
    },
    "executionInfo": {
     "elapsed": 4540,
     "status": "ok",
     "timestamp": 1607853313277,
     "user": {
      "displayName": "Paul guo",
      "photoUrl": "",
      "userId": "12460022556353592632"
     },
     "user_tz": -480
    },
    "id": "mRCID9IyO2ja",
    "outputId": "60c064c3-da11-4340-808c-643368bd0429"
   },
   "outputs": [],
   "source": [
    "weight = torch.zeros(vocab_size+1, embed_size)\n",
    "for i in range(len(wvmodel.index2word)):\n",
    "    try:\n",
    "        index = word_to_idx[wvmodel.index2word[i]]  # 从word2Vec里找到每一个字符，和存在的进行一一对应\n",
    "    except:\n",
    "        continue                    # 如果word2Vec里存在的字，在CNN输入中不存在，则跳过\n",
    "    weight[index, :] = torch.from_numpy(wvmodel.get_vector(\n",
    "        idx_to_word[word_to_idx[wvmodel.index2word[i]]]))"
   ]
  },
  {
   "cell_type": "code",
   "execution_count": 36,
   "metadata": {
    "executionInfo": {
     "elapsed": 4538,
     "status": "ok",
     "timestamp": 1607853313277,
     "user": {
      "displayName": "Paul guo",
      "photoUrl": "",
      "userId": "12460022556353592632"
     },
     "user_tz": -480
    },
    "id": "dyVFDUagO77R"
   },
   "outputs": [],
   "source": [
    "def encode_samples(tokenized_samples):\n",
    "    features = []\n",
    "    for sample in tokenized_samples:\n",
    "        feature = []\n",
    "        for token in sample:\n",
    "            if token in word_to_idx:\n",
    "                feature.append(word_to_idx[token])\n",
    "            else:\n",
    "                feature.append(0)\n",
    "        features.append(feature)\n",
    "    return features"
   ]
  },
  {
   "cell_type": "code",
   "execution_count": 37,
   "metadata": {
    "executionInfo": {
     "elapsed": 4537,
     "status": "ok",
     "timestamp": 1607853313278,
     "user": {
      "displayName": "Paul guo",
      "photoUrl": "",
      "userId": "12460022556353592632"
     },
     "user_tz": -480
    },
    "id": "RnXQJNTVO_8Z"
   },
   "outputs": [],
   "source": [
    "def pad_samples(features, maxlen, PAD=0):\n",
    "    padded_features = []\n",
    "    for feature in features:\n",
    "        if len(feature) >= maxlen:\n",
    "            padded_feature = feature[:maxlen]\n",
    "        else:\n",
    "            padded_feature = feature\n",
    "            while(len(padded_feature) < maxlen):\n",
    "                padded_feature.append(PAD)\n",
    "        padded_features.append(padded_feature)\n",
    "    return padded_features"
   ]
  },
  {
   "cell_type": "code",
   "execution_count": 38,
   "metadata": {
    "executionInfo": {
     "elapsed": 4535,
     "status": "ok",
     "timestamp": 1607853313278,
     "user": {
      "displayName": "Paul guo",
      "photoUrl": "",
      "userId": "12460022556353592632"
     },
     "user_tz": -480
    },
    "id": "ZzDxmv3aPCiR"
   },
   "outputs": [],
   "source": [
    "MAX=60 #通过观察分布60最合适\n",
    "train_features = torch.tensor(pad_samples(encode_samples(x_train),maxlen=MAX))\n",
    "train_labels = torch.tensor(y_train,dtype=torch.int64)\n",
    "test_features = torch.tensor(pad_samples(encode_samples(x_test),maxlen=MAX))\n",
    "test_labels = torch.tensor(y_test,dtype=torch.int64)"
   ]
  },
  {
   "cell_type": "code",
   "execution_count": 39,
   "metadata": {
    "colab": {
     "base_uri": "https://localhost:8080/"
    },
    "executionInfo": {
     "elapsed": 5218,
     "status": "ok",
     "timestamp": 1607853313967,
     "user": {
      "displayName": "Paul guo",
      "photoUrl": "",
      "userId": "12460022556353592632"
     },
     "user_tz": -480
    },
    "id": "CyxnbpkwcPzq",
    "outputId": "08cd2075-9142-423d-d995-270a43ada98d"
   },
   "outputs": [
    {
     "data": {
      "text/plain": [
       "tensor([[1765,  237,  907,  ...,    0,    0,    0],\n",
       "        [3244, 2580, 2670,  ...,    0,    0,    0],\n",
       "        [ 315, 2733, 2166,  ...,    0,    0,    0],\n",
       "        ...,\n",
       "        [3449, 2296, 2179,  ...,    0,    0,    0],\n",
       "        [1326, 3227,  648,  ...,    0,    0,    0],\n",
       "        [3227,  709, 1857,  ...,    0,    0,    0]])"
      ]
     },
     "execution_count": 39,
     "metadata": {},
     "output_type": "execute_result"
    }
   ],
   "source": [
    "test_features"
   ]
  },
  {
   "cell_type": "code",
   "execution_count": 40,
   "metadata": {
    "executionInfo": {
     "elapsed": 5216,
     "status": "ok",
     "timestamp": 1607853313968,
     "user": {
      "displayName": "Paul guo",
      "photoUrl": "",
      "userId": "12460022556353592632"
     },
     "user_tz": -480
    },
    "id": "VivqE4ycPE4N"
   },
   "outputs": [],
   "source": [
    "train_set = torch.utils.data.TensorDataset(train_features, train_labels)\n",
    "test_set = torch.utils.data.TensorDataset(test_features, test_labels)\n",
    "train_iter = torch.utils.data.DataLoader(train_set, batch_size=batch_size,\n",
    "                                         shuffle=True)\n",
    "test_iter = torch.utils.data.DataLoader(test_set, batch_size=batch_size,\n",
    "                                        shuffle=False)"
   ]
  },
  {
   "cell_type": "markdown",
   "metadata": {
    "id": "jN7V43Aus-f2"
   },
   "source": [
    "修改了卷积核的大小"
   ]
  },
  {
   "cell_type": "code",
   "execution_count": 41,
   "metadata": {
    "executionInfo": {
     "elapsed": 5210,
     "status": "ok",
     "timestamp": 1607853313970,
     "user": {
      "displayName": "Paul guo",
      "photoUrl": "",
      "userId": "12460022556353592632"
     },
     "user_tz": -480
    },
    "id": "taqUlVxZPQsR"
   },
   "outputs": [],
   "source": [
    "class textCNN(nn.Module):\n",
    "    def __init__(self, vocab_size, embed_size, seq_len, labels, weight, **kwargs):\n",
    "        super(textCNN, self).__init__(**kwargs)\n",
    "        self.labels = labels\n",
    "        self.embedding = nn.Embedding.from_pretrained(weight)\n",
    "        self.embedding.weight.requires_grad = True\n",
    "        self.conv1 = nn.Conv2d(1, 1, (3, embed_size))\n",
    "        self.conv2 = nn.Conv2d(1, 1, (4, embed_size))\n",
    "        self.conv3 = nn.Conv2d(1, 1, (5, embed_size))\n",
    "        self.pool1 = nn.MaxPool2d((seq_len - 3 + 1, 1))\n",
    "        self.pool2 = nn.MaxPool2d((seq_len - 4 + 1, 1))\n",
    "        self.pool3 = nn.MaxPool2d((seq_len - 5 + 1, 1))\n",
    "        self.linear = nn.Linear(3, labels)\n",
    "        self.drop = nn.Dropout(p=0.5)\n",
    "\n",
    "    def forward(self, inputs):\n",
    "        inputs = self.embedding(inputs).view(inputs.shape[0], 1, inputs.shape[1], -1)\n",
    "        x1 = F.relu(self.conv1(inputs))\n",
    "        x2 = F.relu(self.conv2(inputs))\n",
    "        x3 = F.relu(self.conv3(inputs))\n",
    "\n",
    "        x1 = self.pool1(x1)\n",
    "        x2 = self.pool2(x2)\n",
    "        x3 = self.pool3(x3)\n",
    "\n",
    "        x = torch.cat((x1, x2, x3), 1)\n",
    "        x = x.view(inputs.shape[0], 1, -1)\n",
    "\n",
    "        x = self.linear(x)\n",
    "        x = x.view(-1, self.labels)\n",
    "\n",
    "        return(x)"
   ]
  },
  {
   "cell_type": "code",
   "execution_count": 42,
   "metadata": {
    "executionInfo": {
     "elapsed": 5208,
     "status": "ok",
     "timestamp": 1607853313972,
     "user": {
      "displayName": "Paul guo",
      "photoUrl": "",
      "userId": "12460022556353592632"
     },
     "user_tz": -480
    },
    "id": "HgpT4ZD5-Kn7"
   },
   "outputs": [],
   "source": [
    "def category_accuracy(preds, y):\n",
    "    #round predictions to the closest integer\n",
    "    rounded_preds = torch.max(preds,1)[1]\n",
    "    correct = (rounded_preds == y).float() #convert into float for division \n",
    "    acc = correct.sum() / len(correct)\n",
    "    return acc\n",
    "\n",
    "def train(model, iterator, optimizer, criterion):\n",
    "    \n",
    "    epoch_loss = 0\n",
    "    epoch_acc = 0\n",
    "    \n",
    "    model.train()\n",
    "    \n",
    "    for batch in iterator:\n",
    "        batch = tuple(t.to(device) for t in batch)\n",
    "        vectors,labels=batch\n",
    "\n",
    "        optimizer.zero_grad()\n",
    "        \n",
    "        predictions = model(vectors)\n",
    "        \n",
    "        loss = criterion(predictions, labels)\n",
    "        \n",
    "        acc = category_accuracy(predictions, labels)\n",
    "        \n",
    "        loss.backward()\n",
    "        \n",
    "        optimizer.step()\n",
    "        \n",
    "        epoch_loss += loss.item()\n",
    "        epoch_acc += acc.item()\n",
    "        \n",
    "    return epoch_loss / len(iterator),epoch_acc / len(iterator)\n",
    "\n",
    "def evaluate(model, iterator, criterion):\n",
    "    \n",
    "    epoch_loss = 0\n",
    "    epoch_acc = 0\n",
    "    \n",
    "    model.eval()\n",
    "    \n",
    "    with torch.no_grad():\n",
    "    \n",
    "        for batch in iterator:\n",
    "            batch = tuple(t.to(device) for t in batch)\n",
    "            vectors,labels=batch\n",
    "\n",
    "            predictions = model(vectors)\n",
    "            loss = criterion(predictions, labels)\n",
    "            \n",
    "            acc = category_accuracy(predictions, labels)\n",
    "\n",
    "            epoch_loss += loss.item()\n",
    "            epoch_acc += acc.item()\n",
    "        \n",
    "    return epoch_loss / len(iterator), epoch_acc / len(iterator)"
   ]
  },
  {
   "cell_type": "code",
   "execution_count": 63,
   "metadata": {
    "executionInfo": {
     "elapsed": 1535,
     "status": "ok",
     "timestamp": 1607853501937,
     "user": {
      "displayName": "Paul guo",
      "photoUrl": "",
      "userId": "12460022556353592632"
     },
     "user_tz": -480
    },
    "id": "39gQ-DvTPoxU"
   },
   "outputs": [],
   "source": [
    "model = textCNN(vocab_size=(vocab_size+1), embed_size=embed_size,\n",
    "             seq_len=MAX, labels=labels, weight=weight)\n",
    "model.to(device)\n",
    "criterion = nn.CrossEntropyLoss()\n",
    "optimizer = optim.Adam(model.parameters(), lr=lr)\n",
    "#wandb.watch(model)"
   ]
  },
  {
   "cell_type": "code",
   "execution_count": null,
   "metadata": {
    "executionInfo": {
     "elapsed": 1991,
     "status": "ok",
     "timestamp": 1607857225077,
     "user": {
      "displayName": "Paul guo",
      "photoUrl": "",
      "userId": "12460022556353592632"
     },
     "user_tz": -480
    },
    "id": "-9iJ3yB5BKXK"
   },
   "outputs": [],
   "source": []
  },
  {
   "cell_type": "code",
   "execution_count": 64,
   "metadata": {
    "id": "T0JDHea4ROZI"
   },
   "outputs": [
    {
     "name": "stdout",
     "output_type": "stream",
     "text": [
      "epoch: 1, train loss: 1.6077, train acc: 0.3285, test loss: 1.4592, test acc: 0.3812, time: 31.52\n"
     ]
    },
    {
     "name": "stderr",
     "output_type": "stream",
     "text": [
      "d:\\python37\\lib\\site-packages\\torch\\serialization.py:256: UserWarning: Couldn't retrieve source code for container of type textCNN. It won't be checked for correctness upon loading.\n",
      "  \"type \" + obj.__name__ + \". It won't be checked \"\n"
     ]
    },
    {
     "name": "stdout",
     "output_type": "stream",
     "text": [
      "epoch: 2, train loss: 1.3474, train acc: 0.4638, test loss: 1.3117, test acc: 0.4982, time: 30.05\n",
      "epoch: 3, train loss: 1.2204, train acc: 0.5446, test loss: 1.2208, test acc: 0.5493, time: 32.16\n",
      "epoch: 4, train loss: 1.1171, train acc: 0.5993, test loss: 1.1496, test acc: 0.5881, time: 29.68\n",
      "epoch: 5, train loss: 1.0284, train acc: 0.6333, test loss: 1.1019, test acc: 0.6089, time: 30.04\n",
      "epoch: 6, train loss: 0.9575, train acc: 0.6600, test loss: 1.0686, test acc: 0.6294, time: 33.69\n",
      "epoch: 7, train loss: 0.9001, train acc: 0.6849, test loss: 1.0486, test acc: 0.6448, time: 36.13\n",
      "epoch: 8, train loss: 0.8516, train acc: 0.7050, test loss: 1.0244, test acc: 0.6579, time: 27.75\n",
      "epoch: 9, train loss: 0.8115, train acc: 0.7197, test loss: 1.0199, test acc: 0.6612, time: 33.54\n",
      "epoch: 10, train loss: 0.7756, train acc: 0.7371, test loss: 1.0110, test acc: 0.6684, time: 33.11\n",
      "epoch: 11, train loss: 0.7456, train acc: 0.7476, test loss: 1.0118, test acc: 0.6698, time: 27.71\n",
      "epoch: 12, train loss: 0.7185, train acc: 0.7582, test loss: 1.0121, test acc: 0.6768, time: 31.47\n",
      "epoch: 13, train loss: 0.6959, train acc: 0.7664, test loss: 1.0153, test acc: 0.6832, time: 35.62\n",
      "epoch: 14, train loss: 0.6746, train acc: 0.7734, test loss: 1.0249, test acc: 0.6868, time: 30.23\n",
      "epoch: 15, train loss: 0.6580, train acc: 0.7819, test loss: 1.0390, test acc: 0.6885, time: 27.41\n",
      "epoch: 16, train loss: 0.6434, train acc: 0.7858, test loss: 1.0422, test acc: 0.6921, time: 27.65\n",
      "epoch: 17, train loss: 0.6302, train acc: 0.7899, test loss: 1.0486, test acc: 0.6950, time: 27.46\n",
      "epoch: 18, train loss: 0.6194, train acc: 0.7948, test loss: 1.0544, test acc: 0.6953, time: 28.37\n",
      "epoch: 19, train loss: 0.6067, train acc: 0.7982, test loss: 1.0766, test acc: 0.6971, time: 28.54\n",
      "epoch: 20, train loss: 0.5955, train acc: 0.8026, test loss: 1.0992, test acc: 0.6983, time: 30.22\n"
     ]
    }
   ],
   "source": [
    "N_EPOCHS = 20\n",
    "\n",
    "best_test_acc = float('inf')\n",
    "trainacc,val_acc,trainloss,val_loss=[],[],[],[]\n",
    "\n",
    "for epoch in range(N_EPOCHS):\n",
    "    \n",
    "    start = time.time()\n",
    "    \n",
    "    train_loss,train_acc= train(model, train_iter, optimizer, criterion)\n",
    "    valid_loss,valid_acc = evaluate(model, test_iter, criterion)\n",
    "        \n",
    "    end = time.time()\n",
    "        \n",
    "    runtime = end - start\n",
    "        \n",
    "    if best_test_acc < valid_acc:\n",
    "        best_test_acc = valid_acc\n",
    "        torch.save(model, 'cnn-model.pkl')\n",
    "    trainacc.append(train_acc)\n",
    "    val_acc.append(valid_acc)\n",
    "    trainloss.append(train_loss)\n",
    "    val_loss.append(valid_loss)\n",
    "    #print(f'Epoch: {epoch+1:02} | Epoch Time: {epoch_mins}m {epoch_secs}s')\n",
    "    #print(f'\\tTrain Loss: {train_loss:.3f} | Train Acc: {train_acc*100:.2f}%')\n",
    "    #print(f'\\t Val. Loss: {valid_loss:.3f} |  Val. Acc: {valid_acc*100:.2f}%')\n",
    "    print('epoch: %d, train loss: %.4f, train acc: %.4f, test loss: %.4f, test acc: %.4f, time: %.2f' %\n",
    "      (epoch+1, train_loss, train_acc, valid_loss,valid_acc, runtime))\n",
    "    torch.save(model, 'cnn-model.pkl')"
   ]
  },
  {
   "cell_type": "markdown",
   "metadata": {
    "id": "D58B9YKDrqcB"
   },
   "source": []
  },
  {
   "cell_type": "code",
   "execution_count": null,
   "metadata": {
    "executionInfo": {
     "elapsed": 47656,
     "status": "aborted",
     "timestamp": 1607853356442,
     "user": {
      "displayName": "Paul guo",
      "photoUrl": "",
      "userId": "12460022556353592632"
     },
     "user_tz": -480
    },
    "id": "uShfLJLBrq4f"
   },
   "outputs": [],
   "source": []
  },
  {
   "cell_type": "code",
   "execution_count": 65,
   "metadata": {
    "id": "L9pfH__UgMBT"
   },
   "outputs": [
    {
     "data": {
      "image/png": "[encoded data removed]",
      "text/plain": [
       "<Figure size 432x288 with 1 Axes>"
      ]
     },
     "metadata": {
      "needs_background": "light"
     },
     "output_type": "display_data"
    },
    {
     "data": {
      "image/png": "[encoded data removed]",
      "text/plain": [
       "<Figure size 432x288 with 1 Axes>"
      ]
     },
     "metadata": {
      "needs_background": "light"
     },
     "output_type": "display_data"
    }
   ],
   "source": [
    "import matplotlib.pyplot as plt\n",
    "# 绘制训练 \n",
    "plt.plot(trainacc)\n",
    "plt.plot(val_acc)\n",
    "plt.title('Model accuracy')\n",
    "plt.ylabel('Accuracy')\n",
    "plt.xlabel('Epoch')\n",
    "plt.legend(['Train', 'Test'], loc='upper left')\n",
    "plt.show()\n",
    "\n",
    "# 绘制训练 & 验证的损失值\n",
    "plt.plot(trainloss)\n",
    "plt.plot(val_loss)\n",
    "plt.title('Model loss')\n",
    "plt.ylabel('Loss')\n",
    "plt.xlabel('Epoch')\n",
    "plt.legend(['Train', 'Test'], loc='upper left')\n",
    "plt.show()"
   ]
  },
  {
   "cell_type": "code",
   "execution_count": null,
   "metadata": {},
   "outputs": [],
   "source": []
  }
 ],
 "metadata": {
  "accelerator": "GPU",
  "colab": {
   "collapsed_sections": [],
   "name": "CNN.ipynb",
   "provenance": []
  },
  "kernelspec": {
   "display_name": "Python 3",
   "language": "python",
   "name": "python3"
  },
  "language_info": {
   "codemirror_mode": {
    "name": "ipython",
    "version": 3
   },
   "file_extension": ".py",
   "mimetype": "text/x-python",
   "name": "python",
   "nbconvert_exporter": "python",
   "pygments_lexer": "ipython3",
   "version": "3.7.9"
  }
 },
 "nbformat": 4,
 "nbformat_minor": 1
}
